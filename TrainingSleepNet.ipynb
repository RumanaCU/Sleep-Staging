{
 "cells": [
  {
   "cell_type": "code",
   "execution_count": 1,
   "metadata": {},
   "outputs": [
    {
     "name": "stdout",
     "output_type": "stream",
     "text": [
      "No GPU found. Training will be carried out on CPU, which might be slower.\n",
      "\n",
      "If running on Google Colab, you can request a GPU runtime by clicking\n",
      "`Runtime/Change runtime type` in the top bar menu, then selecting 'GPU'\n",
      "under 'Hardware accelerator'.\n"
     ]
    }
   ],
   "source": [
    "# Identify whether a CUDA-enabled GPU is available\n",
    "import torch\n",
    "\n",
    "if torch.cuda.is_available():\n",
    "    print('CUDA-enabled GPU found. Training should be faster.')\n",
    "else:\n",
    "    print('No GPU found. Training will be carried out on CPU, which might be '\n",
    "          'slower.\\n\\nIf running on Google Colab, you can request a GPU runtime by'\n",
    "          ' clicking\\n`Runtime/Change runtime type` in the top bar menu, then '\n",
    "          'selecting \\'GPU\\'\\nunder \\'Hardware accelerator\\'.')"
   ]
  },
  {
   "cell_type": "code",
   "execution_count": 2,
   "metadata": {},
   "outputs": [],
   "source": [
    "# import general modules\n",
    "import os\n",
    "import copy\n",
    "\n",
    "import torch\n",
    "import numpy as np\n",
    "import pandas as pd\n",
    "import matplotlib.pyplot as plt\n",
    "\n",
    "%matplotlib inline"
   ]
  },
  {
   "cell_type": "code",
   "execution_count": 3,
   "metadata": {},
   "outputs": [],
   "source": [
    "device = 'cuda' if torch.cuda.is_available() else 'cpu'"
   ]
  },
  {
   "cell_type": "code",
   "execution_count": 4,
   "metadata": {},
   "outputs": [
    {
     "data": {
      "text/plain": [
       "'cpu'"
      ]
     },
     "execution_count": 4,
     "metadata": {},
     "output_type": "execute_result"
    }
   ],
   "source": [
    "device"
   ]
  },
  {
   "cell_type": "code",
   "execution_count": 5,
   "metadata": {},
   "outputs": [],
   "source": [
    "import mne\n",
    "from mne.datasets.sleep_physionet.age import fetch_data\n",
    "\n",
    "mne.set_log_level('ERROR')  # To avoid flooding the cell outputs with messages"
   ]
  },
  {
   "cell_type": "code",
   "execution_count": 6,
   "metadata": {},
   "outputs": [],
   "source": [
    "subjects = range(30)\n",
    "recordings = [1]\n",
    "\n",
    "#To load all subjects and recordings, uncomment the next line\n",
    "#subjects, recordings = range(83), [1, 2]"
   ]
  },
  {
   "cell_type": "code",
   "execution_count": 7,
   "metadata": {},
   "outputs": [],
   "source": [
    "fnames = fetch_data(subjects=subjects, recording=recordings, on_missing='warn')"
   ]
  },
  {
   "cell_type": "code",
   "execution_count": 8,
   "metadata": {},
   "outputs": [
    {
     "data": {
      "text/plain": [
       "[['/home/rumana/mne_data/physionet-sleep-data/SC4001E0-PSG.edf',\n",
       "  '/home/rumana/mne_data/physionet-sleep-data/SC4001EC-Hypnogram.edf'],\n",
       " ['/home/rumana/mne_data/physionet-sleep-data/SC4011E0-PSG.edf',\n",
       "  '/home/rumana/mne_data/physionet-sleep-data/SC4011EH-Hypnogram.edf'],\n",
       " ['/home/rumana/mne_data/physionet-sleep-data/SC4021E0-PSG.edf',\n",
       "  '/home/rumana/mne_data/physionet-sleep-data/SC4021EH-Hypnogram.edf'],\n",
       " ['/home/rumana/mne_data/physionet-sleep-data/SC4031E0-PSG.edf',\n",
       "  '/home/rumana/mne_data/physionet-sleep-data/SC4031EC-Hypnogram.edf'],\n",
       " ['/home/rumana/mne_data/physionet-sleep-data/SC4041E0-PSG.edf',\n",
       "  '/home/rumana/mne_data/physionet-sleep-data/SC4041EC-Hypnogram.edf'],\n",
       " ['/home/rumana/mne_data/physionet-sleep-data/SC4051E0-PSG.edf',\n",
       "  '/home/rumana/mne_data/physionet-sleep-data/SC4051EC-Hypnogram.edf'],\n",
       " ['/home/rumana/mne_data/physionet-sleep-data/SC4061E0-PSG.edf',\n",
       "  '/home/rumana/mne_data/physionet-sleep-data/SC4061EC-Hypnogram.edf'],\n",
       " ['/home/rumana/mne_data/physionet-sleep-data/SC4071E0-PSG.edf',\n",
       "  '/home/rumana/mne_data/physionet-sleep-data/SC4071EC-Hypnogram.edf'],\n",
       " ['/home/rumana/mne_data/physionet-sleep-data/SC4081E0-PSG.edf',\n",
       "  '/home/rumana/mne_data/physionet-sleep-data/SC4081EC-Hypnogram.edf'],\n",
       " ['/home/rumana/mne_data/physionet-sleep-data/SC4091E0-PSG.edf',\n",
       "  '/home/rumana/mne_data/physionet-sleep-data/SC4091EC-Hypnogram.edf'],\n",
       " ['/home/rumana/mne_data/physionet-sleep-data/SC4101E0-PSG.edf',\n",
       "  '/home/rumana/mne_data/physionet-sleep-data/SC4101EC-Hypnogram.edf'],\n",
       " ['/home/rumana/mne_data/physionet-sleep-data/SC4111E0-PSG.edf',\n",
       "  '/home/rumana/mne_data/physionet-sleep-data/SC4111EC-Hypnogram.edf'],\n",
       " ['/home/rumana/mne_data/physionet-sleep-data/SC4121E0-PSG.edf',\n",
       "  '/home/rumana/mne_data/physionet-sleep-data/SC4121EC-Hypnogram.edf'],\n",
       " ['/home/rumana/mne_data/physionet-sleep-data/SC4131E0-PSG.edf',\n",
       "  '/home/rumana/mne_data/physionet-sleep-data/SC4131EC-Hypnogram.edf'],\n",
       " ['/home/rumana/mne_data/physionet-sleep-data/SC4141E0-PSG.edf',\n",
       "  '/home/rumana/mne_data/physionet-sleep-data/SC4141EU-Hypnogram.edf'],\n",
       " ['/home/rumana/mne_data/physionet-sleep-data/SC4151E0-PSG.edf',\n",
       "  '/home/rumana/mne_data/physionet-sleep-data/SC4151EC-Hypnogram.edf'],\n",
       " ['/home/rumana/mne_data/physionet-sleep-data/SC4161E0-PSG.edf',\n",
       "  '/home/rumana/mne_data/physionet-sleep-data/SC4161EC-Hypnogram.edf'],\n",
       " ['/home/rumana/mne_data/physionet-sleep-data/SC4171E0-PSG.edf',\n",
       "  '/home/rumana/mne_data/physionet-sleep-data/SC4171EU-Hypnogram.edf'],\n",
       " ['/home/rumana/mne_data/physionet-sleep-data/SC4181E0-PSG.edf',\n",
       "  '/home/rumana/mne_data/physionet-sleep-data/SC4181EC-Hypnogram.edf'],\n",
       " ['/home/rumana/mne_data/physionet-sleep-data/SC4191E0-PSG.edf',\n",
       "  '/home/rumana/mne_data/physionet-sleep-data/SC4191EP-Hypnogram.edf'],\n",
       " ['/home/rumana/mne_data/physionet-sleep-data/SC4201E0-PSG.edf',\n",
       "  '/home/rumana/mne_data/physionet-sleep-data/SC4201EC-Hypnogram.edf'],\n",
       " ['/home/rumana/mne_data/physionet-sleep-data/SC4211E0-PSG.edf',\n",
       "  '/home/rumana/mne_data/physionet-sleep-data/SC4211EC-Hypnogram.edf'],\n",
       " ['/home/rumana/mne_data/physionet-sleep-data/SC4221E0-PSG.edf',\n",
       "  '/home/rumana/mne_data/physionet-sleep-data/SC4221EJ-Hypnogram.edf'],\n",
       " ['/home/rumana/mne_data/physionet-sleep-data/SC4231E0-PSG.edf',\n",
       "  '/home/rumana/mne_data/physionet-sleep-data/SC4231EJ-Hypnogram.edf'],\n",
       " ['/home/rumana/mne_data/physionet-sleep-data/SC4241E0-PSG.edf',\n",
       "  '/home/rumana/mne_data/physionet-sleep-data/SC4241EC-Hypnogram.edf'],\n",
       " ['/home/rumana/mne_data/physionet-sleep-data/SC4251E0-PSG.edf',\n",
       "  '/home/rumana/mne_data/physionet-sleep-data/SC4251EP-Hypnogram.edf'],\n",
       " ['/home/rumana/mne_data/physionet-sleep-data/SC4261F0-PSG.edf',\n",
       "  '/home/rumana/mne_data/physionet-sleep-data/SC4261FM-Hypnogram.edf'],\n",
       " ['/home/rumana/mne_data/physionet-sleep-data/SC4271F0-PSG.edf',\n",
       "  '/home/rumana/mne_data/physionet-sleep-data/SC4271FC-Hypnogram.edf'],\n",
       " ['/home/rumana/mne_data/physionet-sleep-data/SC4281G0-PSG.edf',\n",
       "  '/home/rumana/mne_data/physionet-sleep-data/SC4281GC-Hypnogram.edf'],\n",
       " ['/home/rumana/mne_data/physionet-sleep-data/SC4291G0-PSG.edf',\n",
       "  '/home/rumana/mne_data/physionet-sleep-data/SC4291GA-Hypnogram.edf']]"
      ]
     },
     "execution_count": 8,
     "metadata": {},
     "output_type": "execute_result"
    }
   ],
   "source": [
    "fnames"
   ]
  },
  {
   "cell_type": "code",
   "execution_count": 9,
   "metadata": {},
   "outputs": [],
   "source": [
    "def load_sleep_physionet_raw(raw_fname, annot_fname, load_eeg_only=True, \n",
    "                             crop_wake_mins=30):\n",
    "    \"\"\"Load a recording from the Sleep Physionet dataset.\n",
    "    \n",
    "    Parameters\n",
    "    ----------\n",
    "    raw_fname : str\n",
    "        Path to the .edf file containing the raw data.\n",
    "    annot_fname : str\n",
    "        Path to the annotation file.\n",
    "    load_eeg_only : bool\n",
    "        If True, only keep EEG channels and discard other modalities \n",
    "        (speeds up loading).\n",
    "    crop_wake_mins : float\n",
    "        Number of minutes of wake events before and after sleep events.\n",
    "    \n",
    "    Returns\n",
    "    -------\n",
    "    mne.io.Raw :\n",
    "        Raw object containing the EEG and annotations.        \n",
    "    \"\"\"\n",
    "    mapping = {'EOG horizontal': 'eog',\n",
    "               'Resp oro-nasal': 'misc',\n",
    "               'EMG submental': 'misc',\n",
    "               'Temp rectal': 'misc',\n",
    "               'Event marker': 'misc'}\n",
    "    exclude = mapping.keys() if load_eeg_only else ()\n",
    "    \n",
    "    raw = mne.io.read_raw_edf(raw_fname, exclude=exclude)\n",
    "    annots = mne.read_annotations(annot_fname)\n",
    "    raw.set_annotations(annots, emit_warning=False)\n",
    "    if not load_eeg_only:\n",
    "        raw.set_channel_types(mapping)\n",
    "    \n",
    "    if crop_wake_mins > 0:  # Cut start and end Wake periods\n",
    "        # Find first and last sleep stages\n",
    "        mask = [x[-1] in ['1', '2', '3', '4', 'R'] \n",
    "                for x in annots.description]\n",
    "        sleep_event_inds = np.where(mask)[0]\n",
    "\n",
    "        # Crop raw\n",
    "        tmin = annots[int(sleep_event_inds[0])]['onset'] - \\\n",
    "               crop_wake_mins * 60\n",
    "        tmax = annots[int(sleep_event_inds[-1])]['onset'] + \\\n",
    "               crop_wake_mins * 60\n",
    "        raw.crop(tmin=tmin, tmax=tmax)\n",
    "    \n",
    "    # Rename EEG channels\n",
    "    ch_names = {i: i.replace('EEG ', '') \n",
    "                for i in raw.ch_names if 'EEG' in i}\n",
    "    mne.rename_channels(raw.info, ch_names)\n",
    "    \n",
    "    # Save subject and recording information in raw.info\n",
    "    basename = os.path.basename(raw_fname)\n",
    "    subj_nb, rec_nb = int(basename[3:5]), int(basename[5])\n",
    "    raw.info['subject_info'] = {'id': subj_nb, 'rec_id': rec_nb}\n",
    "   \n",
    "    return raw"
   ]
  },
  {
   "cell_type": "code",
   "execution_count": 10,
   "metadata": {},
   "outputs": [],
   "source": [
    "# Load recordings\n",
    "raws = [load_sleep_physionet_raw(f[0], f[1]) for f in fnames]"
   ]
  },
  {
   "cell_type": "code",
   "execution_count": 11,
   "metadata": {},
   "outputs": [
    {
     "name": "stderr",
     "output_type": "stream",
     "text": [
      "/home/rumana/anaconda3/lib/python3.8/site-packages/matplotlib/colors.py:263: VisibleDeprecationWarning: Creating an ndarray from ragged nested sequences (which is a list-or-tuple of lists-or-tuples-or ndarrays with different lengths or shapes) is deprecated. If you meant to do this, you must specify 'dtype=object' when creating the ndarray\n",
      "  c = np.array(c)\n"
     ]
    },
    {
     "data": {
      "image/png": "[encoded data removed]",
      "text/plain": [
       "<MNEBrowseFigure size 432x288 with 4 Axes>"
      ]
     },
     "metadata": {
      "needs_background": "light"
     },
     "output_type": "display_data"
    }
   ],
   "source": [
    "# Plot a recording as a sanity check\n",
    "raws[1].plot();"
   ]
  },
  {
   "cell_type": "code",
   "execution_count": 12,
   "metadata": {},
   "outputs": [],
   "source": [
    "from scipy.signal import butter, lfilter"
   ]
  },
  {
   "cell_type": "code",
   "execution_count": 13,
   "metadata": {},
   "outputs": [],
   "source": [
    "l_freq, h_freq = None, 30\n",
    "\n",
    "for raw in raws:\n",
    "    #raw.load_data().filter(l_freq, h_freq)  # filtering happens in-place\n",
    "    raw.load_data().filter(l_freq, h_freq, method='iir')\n",
    "    "
   ]
  },
  {
   "cell_type": "code",
   "execution_count": 14,
   "metadata": {},
   "outputs": [
    {
     "data": {
      "image/png": "[encoded data removed]",
      "text/plain": [
       "<MNELineFigure size 720x252 with 1 Axes>"
      ]
     },
     "metadata": {
      "needs_background": "light"
     },
     "output_type": "display_data"
    }
   ],
   "source": [
    "# Plot the power spectrum of a recording as sanity check\n",
    "raws[1].plot_psd();"
   ]
  },
  {
   "cell_type": "code",
   "execution_count": 15,
   "metadata": {},
   "outputs": [],
   "source": [
    "def extract_epochs(raw, chunk_duration=30.):\n",
    "    \"\"\"Extract non-overlapping epochs from raw data.\n",
    "    \n",
    "    Parameters\n",
    "    ----------\n",
    "    raw : mne.io.Raw\n",
    "        Raw data object to be windowed.\n",
    "    chunk_duration : float\n",
    "        Length of a window.\n",
    "    \n",
    "    Returns\n",
    "    -------\n",
    "    np.ndarray\n",
    "        Epoched data, of shape (n_epochs, n_channels, n_times).\n",
    "    np.ndarray\n",
    "        Event identifiers for each epoch, shape (n_epochs,).\n",
    "    \"\"\"\n",
    "    annotation_desc_2_event_id = {\n",
    "        'Sleep stage W': 1,\n",
    "        'Sleep stage 1': 2,\n",
    "        'Sleep stage 2': 3,\n",
    "        'Sleep stage 3': 4,\n",
    "        'Sleep stage 4': 4,\n",
    "        'Sleep stage R': 5}\n",
    "\n",
    "    events, _ = mne.events_from_annotations(\n",
    "        raw, event_id=annotation_desc_2_event_id, \n",
    "        chunk_duration=chunk_duration)\n",
    "\n",
    "    # create a new event_id that unifies stages 3 and 4\n",
    "    event_id = {\n",
    "        'Sleep stage W': 1,\n",
    "        'Sleep stage 1': 2,\n",
    "        'Sleep stage 2': 3,\n",
    "        'Sleep stage 3/4': 4,\n",
    "        'Sleep stage R': 5}\n",
    "\n",
    "    tmax = 30. - 1. / raw.info['sfreq']  # tmax in included\n",
    "    picks = mne.pick_types(raw.info, eeg=True, eog=True)\n",
    "    epochs = mne.Epochs(raw=raw, events=events, picks=picks, preload=True,\n",
    "                        event_id=event_id, tmin=0., tmax=tmax, baseline=None)\n",
    "    \n",
    "    return epochs.get_data(), epochs.events[:, 2] - 1"
   ]
  },
  {
   "cell_type": "code",
   "execution_count": 16,
   "metadata": {},
   "outputs": [],
   "source": [
    "from torch.utils.data import Dataset, ConcatDataset\n",
    "\n",
    "\n",
    "class EpochsDataset(Dataset):\n",
    "    \"\"\"Class to expose an MNE Epochs object as PyTorch dataset.\n",
    "    \n",
    "    Parameters\n",
    "    ----------\n",
    "    epochs_data : np.ndarray\n",
    "        The epochs data, shape (n_epochs, n_channels, n_times).\n",
    "    epochs_labels : np.ndarray\n",
    "        The epochs labels, shape (n_epochs,)\n",
    "    subj_nb: None | int\n",
    "        Subject number.\n",
    "    rec_nb: None | int\n",
    "        Recording number.\n",
    "    transform : callable | None\n",
    "        The function to eventually apply to each epoch\n",
    "        for preprocessing (e.g. scaling). Defaults to None.\n",
    "    \"\"\"\n",
    "    def __init__(self, epochs_data, epochs_labels, subj_nb=None, \n",
    "                 rec_nb=None, transform=None):\n",
    "        assert len(epochs_data) == len(epochs_labels)\n",
    "        self.epochs_data = epochs_data\n",
    "        self.epochs_labels = epochs_labels\n",
    "        self.subj_nb = subj_nb\n",
    "        self.rec_nb = rec_nb\n",
    "        self.transform = transform\n",
    "\n",
    "    def __len__(self):\n",
    "        return len(self.epochs_labels)\n",
    "\n",
    "    def __getitem__(self, idx):\n",
    "        X, y = self.epochs_data[idx], self.epochs_labels[idx]\n",
    "        if self.transform is not None:\n",
    "            X = self.transform(X)\n",
    "        X = torch.as_tensor(X[None, ...])\n",
    "        return X, y\n",
    "    \n",
    "\n",
    "def scale(X):\n",
    "    \"\"\"Standard scaling of data along the last dimention.\n",
    "    \n",
    "    Parameters\n",
    "    ----------\n",
    "    X : array, shape (n_channels, n_times)\n",
    "        The input signals.\n",
    "        \n",
    "    Returns\n",
    "    -------\n",
    "    X_t : array, shape (n_channels, n_times)\n",
    "        The scaled signals.\n",
    "    \"\"\"\n",
    "    X -= np.mean(X, axis=1, keepdims=True)\n",
    "    return X / np.std(X, axis=1, keepdims=True)"
   ]
  },
  {
   "cell_type": "code",
   "execution_count": 17,
   "metadata": {},
   "outputs": [],
   "source": [
    "# Apply windowing and move to pytorch dataset\n",
    "all_datasets = [EpochsDataset(*extract_epochs(raw), subj_nb=raw.info['subject_info']['id'], \n",
    "                              rec_nb=raw.info['subject_info']['rec_id'], transform=scale) \n",
    "                for raw in raws]\n",
    "\n",
    "# Concatenate into a single dataset\n",
    "dataset = ConcatDataset(all_datasets)"
   ]
  },
  {
   "cell_type": "code",
   "execution_count": 18,
   "metadata": {},
   "outputs": [
    {
     "data": {
      "text/plain": [
       "<torch.utils.data.dataset.ConcatDataset at 0x7f20276bf760>"
      ]
     },
     "execution_count": 18,
     "metadata": {},
     "output_type": "execute_result"
    }
   ],
   "source": [
    "dataset"
   ]
  },
  {
   "cell_type": "code",
   "execution_count": 19,
   "metadata": {},
   "outputs": [],
   "source": [
    "from sklearn.model_selection import LeavePGroupsOut\n",
    "\n",
    "\n",
    "def pick_recordings(dataset, subj_rec_nbs):\n",
    "    \"\"\"Pick recordings using subject and recording numbers.\n",
    "    \n",
    "    Parameters\n",
    "    ----------\n",
    "    dataset : ConcatDataset\n",
    "        The dataset to pick recordings from.        \n",
    "    subj_rec_nbs : list of tuples\n",
    "        List of pairs (subj_nb, rec_nb) to use in split.\n",
    "        \n",
    "    Returns\n",
    "    -------\n",
    "    ConcatDataset\n",
    "        The picked recordings.\n",
    "    ConcatDataset | None\n",
    "        The remaining recordings. None if all recordings from \n",
    "        `dataset` were picked.\n",
    "    \"\"\"\n",
    "    pick_idx = list()\n",
    "    for subj_nb, rec_nb in subj_rec_nbs:\n",
    "        for i, ds in enumerate(dataset.datasets):\n",
    "            if (ds.subj_nb == subj_nb) and (ds.rec_nb == rec_nb):\n",
    "                pick_idx.append(i)\n",
    "                \n",
    "    remaining_idx = np.setdiff1d(\n",
    "        range(len(dataset.datasets)), pick_idx)\n",
    "\n",
    "    pick_ds = ConcatDataset([dataset.datasets[i] for i in pick_idx])\n",
    "    if len(remaining_idx) > 0:\n",
    "        remaining_ds = ConcatDataset(\n",
    "            [dataset.datasets[i] for i in remaining_idx])\n",
    "    else:\n",
    "        remaining_ds = None\n",
    "    \n",
    "    return pick_ds, remaining_ds\n",
    "    \n",
    "\n",
    "def train_test_split(dataset, n_groups, split_by='subj_nb'):\n",
    "    \"\"\"Split dataset into train and test keeping n_groups out in test.\n",
    "    \n",
    "    Parameters\n",
    "    ----------\n",
    "    dataset : ConcatDataset\n",
    "        The dataset to split.\n",
    "    n_groups : int\n",
    "        The number of groups to leave out.\n",
    "    split_by : 'subj_nb' | 'rec_nb'\n",
    "        Property to use to split dataset.\n",
    "        \n",
    "    Returns\n",
    "    -------\n",
    "    ConcatDataset\n",
    "        The training data.\n",
    "    ConcatDataset\n",
    "        The testing data.\n",
    "    \"\"\"\n",
    "    groups = [getattr(ds, split_by) for ds in dataset.datasets]\n",
    "    train_idx, test_idx = next(\n",
    "        LeavePGroupsOut(n_groups).split(X=groups, groups=groups))\n",
    "\n",
    "    train_ds = ConcatDataset([dataset.datasets[i] for i in train_idx])\n",
    "    test_ds = ConcatDataset([dataset.datasets[i] for i in test_idx])\n",
    "        \n",
    "    return train_ds, test_ds"
   ]
  },
  {
   "cell_type": "code",
   "execution_count": 20,
   "metadata": {},
   "outputs": [],
   "source": [
    "# We seed the random number generators to make our splits reproducible\n",
    "torch.manual_seed(87)\n",
    "np.random.seed(87)"
   ]
  },
  {
   "cell_type": "code",
   "execution_count": 21,
   "metadata": {},
   "outputs": [],
   "source": [
    "# Use recording 1 of subjects 0-9 as test set\n",
    "test_recs = [(subj_nb, rec_nb)  # DO NOT CHANGE! This is a fixed set.\n",
    "             for subj_nb, rec_nb in zip(range(10), [1] * 10)]\n",
    "test_ds, train_ds = pick_recordings(dataset, test_recs)"
   ]
  },
  {
   "cell_type": "code",
   "execution_count": 22,
   "metadata": {},
   "outputs": [
    {
     "name": "stdout",
     "output_type": "stream",
     "text": [
      "Number of examples in each set:\n",
      "Training: 18545\n",
      "Validation: 4094\n",
      "Test: 9850\n"
     ]
    }
   ],
   "source": [
    "# Split remaining recordings into training and validation sets\n",
    "n_subjects_valid = max(1, int(len(train_ds.datasets) * 0.2))\n",
    "train_ds, valid_ds = train_test_split(train_ds, n_subjects_valid, split_by='subj_nb')\n",
    "\n",
    "print('Number of examples in each set:')\n",
    "print(f'Training: {len(train_ds)}')\n",
    "print(f'Validation: {len(valid_ds)}')\n",
    "print(f'Test: {len(test_ds)}')"
   ]
  },
  {
   "cell_type": "code",
   "execution_count": 23,
   "metadata": {},
   "outputs": [
    {
     "data": {
      "image/png": "[encoded data removed]",
      "text/plain": [
       "<Figure size 432x288 with 1 Axes>"
      ]
     },
     "metadata": {
      "needs_background": "light"
     },
     "output_type": "display_data"
    }
   ],
   "source": [
    "classes_mapping = {0: 'W', 1: 'N1', 2: 'N2', 3: 'N3', 4: 'R'}\n",
    "y_train = pd.Series([y for _, y in train_ds]).map(classes_mapping)\n",
    "ax = y_train.value_counts().plot(kind='barh')\n",
    "ax.set_xlabel('Number of training examples');\n",
    "ax.set_ylabel('Sleep stage');"
   ]
  },
  {
   "cell_type": "code",
   "execution_count": 24,
   "metadata": {},
   "outputs": [
    {
     "name": "stdout",
     "output_type": "stream",
     "text": [
      "[0.84583808 2.37908916 0.48700105 2.03567508 1.17262093]\n"
     ]
    }
   ],
   "source": [
    "# Computing class weight\n",
    "from sklearn.utils.class_weight import compute_class_weight\n",
    "\n",
    "train_y = np.concatenate([ds.epochs_labels for ds in train_ds.datasets])\n",
    "class_weights = compute_class_weight('balanced', classes=np.unique(train_y), y=train_y)\n",
    "print(class_weights)"
   ]
  },
  {
   "cell_type": "code",
   "execution_count": 25,
   "metadata": {},
   "outputs": [],
   "source": [
    "from torch import nn\n",
    "\n",
    "\n",
    "class SleepStagerChambon2018(nn.Module):\n",
    "    \"\"\"Sleep staging architecture from [1]_.\n",
    "    \n",
    "    Convolutional neural network for sleep staging described in [1]_.\n",
    "    \n",
    "    Parameters\n",
    "    ----------\n",
    "    n_channels : int\n",
    "        Number of EEG channels.\n",
    "    sfreq : float\n",
    "        EEG sampling frequency.\n",
    "    n_conv_chs : int\n",
    "        Number of convolutional channels. Set to 8 in [1]_.\n",
    "    time_conv_size_s : float\n",
    "        Size of filters in temporal convolution layers, in seconds. Set to 0.5\n",
    "        in [1]_ (64 samples at sfreq=128).\n",
    "    max_pool_size_s : float\n",
    "        Max pooling size, in seconds. Set to 0.125 in [1]_ (16 samples at\n",
    "        sfreq=128).\n",
    "    n_classes : int\n",
    "        Number of classes.\n",
    "    input_size_s : float\n",
    "        Size of the input, in seconds.\n",
    "    dropout : float\n",
    "        Dropout rate before the output dense layer.\n",
    "        \n",
    "    References\n",
    "    ----------\n",
    "    .. [1] Chambon, S., Galtier, M. N., Arnal, P. J., Wainrib, G., &\n",
    "           Gramfort, A. (2018). A deep learning architecture for temporal sleep\n",
    "           stage classification using multivariate and multimodal time series.\n",
    "           IEEE Transactions on Neural Systems and Rehabilitation Engineering,\n",
    "           26(4), 758-769.\n",
    "    \"\"\"\n",
    "    def __init__(self, n_channels, sfreq, n_conv_chs=8, time_conv_size_s=0.5,\n",
    "                 max_pool_size_s=0.125, n_classes=5, input_size_s=30,\n",
    "                 dropout=0.25):\n",
    "        super().__init__()\n",
    "\n",
    "        time_conv_size = int(time_conv_size_s * sfreq)\n",
    "        max_pool_size = int(max_pool_size_s * sfreq)\n",
    "        input_size = int(input_size_s * sfreq)\n",
    "        pad_size = time_conv_size // 2\n",
    "        self.n_channels = n_channels\n",
    "        len_last_layer = self._len_last_layer(\n",
    "            n_channels, input_size, max_pool_size, n_conv_chs)\n",
    "\n",
    "        if n_channels > 1:\n",
    "            self.spatial_conv = nn.Conv2d(1, n_channels, (n_channels, 1))\n",
    "\n",
    "        self.feature_extractor = nn.Sequential(\n",
    "            nn.Conv2d(\n",
    "                1, n_conv_chs, (1, time_conv_size), padding=(0, pad_size)),\n",
    "            nn.ReLU(),\n",
    "            nn.MaxPool2d((1, max_pool_size)),\n",
    "            nn.Conv2d(\n",
    "                n_conv_chs, n_conv_chs, (1, time_conv_size),\n",
    "                padding=(0, pad_size)),\n",
    "            nn.ReLU(),\n",
    "            nn.MaxPool2d((1, max_pool_size))\n",
    "        )\n",
    "        self.fc = nn.Sequential(\n",
    "            nn.Dropout(dropout),\n",
    "            nn.Linear(len_last_layer, n_classes)\n",
    "        )\n",
    "\n",
    "    @staticmethod\n",
    "    def _len_last_layer(n_channels, input_size, max_pool_size, n_conv_chs):\n",
    "        return n_channels * (input_size // (max_pool_size ** 2)) * n_conv_chs\n",
    "\n",
    "    def forward(self, x):\n",
    "        \"\"\"Forward pass.\n",
    "        \n",
    "        Parameters\n",
    "        ---------\n",
    "        x: torch.Tensor\n",
    "            Batch of EEG windows of shape (batch_size, n_channels, n_times).\n",
    "        \"\"\"\n",
    "        if self.n_channels > 1:\n",
    "            x = self.spatial_conv(x)\n",
    "            x = x.transpose(1, 2)\n",
    "\n",
    "        x = self.feature_extractor(x)\n",
    "        return self.fc(x.flatten(start_dim=1))"
   ]
  },
  {
   "cell_type": "code",
   "execution_count": 26,
   "metadata": {},
   "outputs": [],
   "source": [
    "sfreq = raws[0].info['sfreq']  # Sampling frequency\n",
    "n_channels = raws[0].info['nchan']  # Number of channels\n",
    "\n",
    "model = SleepStagerChambon2018(n_channels, sfreq, n_classes=5)"
   ]
  },
  {
   "cell_type": "code",
   "execution_count": 27,
   "metadata": {},
   "outputs": [
    {
     "name": "stdout",
     "output_type": "stream",
     "text": [
      "Using device 'cpu'.\n"
     ]
    }
   ],
   "source": [
    "print(f'Using device \\'{device}\\'.')\n",
    "model = model.to(device)"
   ]
  },
  {
   "cell_type": "code",
   "execution_count": 28,
   "metadata": {},
   "outputs": [],
   "source": [
    "from torch.utils.data import DataLoader\n",
    "\n",
    "# Create dataloaders\n",
    "train_batch_size = 128  # Important hyperparameter\n",
    "valid_batch_size = 256  # Can be made as large as what fits in memory; won't impact performance\n",
    "num_workers = 0  # Number of processes to use for the data loading process; 0 is the main Python process\n",
    "\n",
    "loader_train = DataLoader(\n",
    "    train_ds, batch_size=train_batch_size, shuffle=True, num_workers=num_workers)\n",
    "loader_valid = DataLoader(\n",
    "    valid_ds, batch_size=valid_batch_size, shuffle=False, num_workers=num_workers)\n",
    "loader_test = DataLoader(\n",
    "    test_ds, batch_size=valid_batch_size, shuffle=False, num_workers=num_workers)"
   ]
  },
  {
   "cell_type": "code",
   "execution_count": 29,
   "metadata": {},
   "outputs": [],
   "source": [
    "from sklearn.metrics import balanced_accuracy_score, cohen_kappa_score\n",
    "\n",
    "def _do_train(model, loader, optimizer, criterion, device, metric):\n",
    "    # training loop\n",
    "    model.train()\n",
    "    \n",
    "    train_loss = np.zeros(len(loader))\n",
    "    y_pred_all, y_true_all = list(), list()\n",
    "    for idx_batch, (batch_x, batch_y) in enumerate(loader):\n",
    "        optimizer.zero_grad()\n",
    "        batch_x = batch_x.to(device=device, dtype=torch.float32)\n",
    "        batch_y = batch_y.to(device=device, dtype=torch.int64)\n",
    "\n",
    "        output = model(batch_x)\n",
    "        loss = criterion(output, batch_y)\n",
    "\n",
    "        loss.backward()\n",
    "        optimizer.step()\n",
    "        \n",
    "        y_pred_all.append(torch.argmax(output, axis=1).cpu().numpy())\n",
    "        y_true_all.append(batch_y.cpu().numpy())\n",
    "\n",
    "        train_loss[idx_batch] = loss.item()\n",
    "        \n",
    "    y_pred = np.concatenate(y_pred_all)\n",
    "    y_true = np.concatenate(y_true_all)\n",
    "    perf = metric(y_true, y_pred)\n",
    "    \n",
    "    return np.mean(train_loss), perf\n",
    "        \n",
    "\n",
    "def _validate(model, loader, criterion, device, metric):\n",
    "    # validation loop\n",
    "    model.eval()\n",
    "    \n",
    "    val_loss = np.zeros(len(loader))\n",
    "    y_pred_all, y_true_all = list(), list()\n",
    "    with torch.no_grad():\n",
    "        for idx_batch, (batch_x, batch_y) in enumerate(loader):\n",
    "            batch_x = batch_x.to(device=device, dtype=torch.float32)\n",
    "            batch_y = batch_y.to(device=device, dtype=torch.int64)\n",
    "            output = model.forward(batch_x)\n",
    "\n",
    "            loss = criterion(output, batch_y)\n",
    "            val_loss[idx_batch] = loss.item()\n",
    "            \n",
    "            y_pred_all.append(torch.argmax(output, axis=1).cpu().numpy())\n",
    "            y_true_all.append(batch_y.cpu().numpy())\n",
    "            \n",
    "    y_pred = np.concatenate(y_pred_all)\n",
    "    y_true = np.concatenate(y_true_all)\n",
    "    perf = metric(y_true, y_pred)\n",
    "\n",
    "    return np.mean(val_loss), perf\n",
    "\n",
    "\n",
    "def train(model, loader_train, loader_valid, optimizer, criterion, n_epochs, \n",
    "          patience, device, metric=None):\n",
    "    \"\"\"Training function.\n",
    "    \n",
    "    Parameters\n",
    "    ----------\n",
    "    model : instance of nn.Module\n",
    "        The model.\n",
    "    loader_train : instance of Sampler\n",
    "        The generator of EEG samples the model has to train on.\n",
    "        It contains n_train samples\n",
    "    loader_valid : instance of Sampler\n",
    "        The generator of EEG samples the model has to validate on.\n",
    "        It contains n_val samples. The validation samples are used to\n",
    "        monitor the training process and to perform early stopping\n",
    "    optimizer : instance of optimizer\n",
    "        The optimizer to use for training.\n",
    "    n_epochs : int\n",
    "        The maximum of epochs to run.\n",
    "    patience : int\n",
    "        The patience parameter, i.e. how long to wait for the\n",
    "        validation error to go down.\n",
    "    metric : None | callable\n",
    "        Metric to use to evaluate performance on the training and\n",
    "        validation sets. Defaults to balanced accuracy.\n",
    "        \n",
    "    Returns\n",
    "    -------\n",
    "    best_model : instance of nn.Module\n",
    "        The model that led to the best prediction on the validation\n",
    "        dataset.\n",
    "    history : list of dicts\n",
    "        Training history (loss, accuracy, etc.)\n",
    "    \"\"\"\n",
    "    best_valid_loss = np.inf\n",
    "    best_model = copy.deepcopy(model)\n",
    "    waiting = 0\n",
    "    history = list()\n",
    "    \n",
    "    if metric is None:\n",
    "        metric = balanced_accuracy_score\n",
    "        \n",
    "    print('epoch \\t train_loss \\t valid_loss \\t train_perf \\t valid_perf')\n",
    "    print('-------------------------------------------------------------------')\n",
    "\n",
    "    for epoch in range(1, n_epochs + 1):\n",
    "        train_loss, train_perf = _do_train(\n",
    "            model, loader_train, optimizer, criterion, device, metric=metric)\n",
    "        valid_loss, valid_perf = _validate(\n",
    "            model, loader_valid, criterion, device, metric=metric)\n",
    "        history.append(\n",
    "            {'epoch': epoch, \n",
    "             'train_loss': train_loss, 'valid_loss': valid_loss,\n",
    "             'train_perf': train_perf, 'valid_perf': valid_perf})\n",
    "        \n",
    "        print(f'{epoch} \\t {train_loss:0.4f} \\t {valid_loss:0.4f} '\n",
    "              f'\\t {train_perf:0.4f} \\t {valid_perf:0.4f}')\n",
    "\n",
    "        # model saving\n",
    "        if valid_loss < best_valid_loss:\n",
    "            print(f'best val loss {best_valid_loss:.4f} -> {valid_loss:.4f}')\n",
    "            best_valid_loss = valid_loss\n",
    "            best_model = copy.deepcopy(model)\n",
    "            waiting = 0\n",
    "        else:\n",
    "            waiting += 1\n",
    "\n",
    "        # model early stopping\n",
    "        if waiting >= patience:\n",
    "            print(f'Stop training at epoch {epoch}')\n",
    "            print(f'Best val loss : {best_valid_loss:.4f}')\n",
    "            break\n",
    "\n",
    "    return best_model, history"
   ]
  },
  {
   "cell_type": "code",
   "execution_count": 30,
   "metadata": {},
   "outputs": [],
   "source": [
    "from torch.nn import CrossEntropyLoss\n",
    "from torch.optim import Adam\n",
    "\n",
    "optimizer = Adam(model.parameters(), lr=1e-3, weight_decay=0)\n",
    "criterion = CrossEntropyLoss(weight=torch.Tensor(class_weights).to(device))"
   ]
  },
  {
   "cell_type": "code",
   "execution_count": 31,
   "metadata": {},
   "outputs": [
    {
     "name": "stdout",
     "output_type": "stream",
     "text": [
      "epoch \t train_loss \t valid_loss \t train_perf \t valid_perf\n",
      "-------------------------------------------------------------------\n",
      "1 \t 1.1236 \t 0.8941 \t 0.3431 \t 0.5363\n",
      "best val loss inf -> 0.8941\n",
      "2 \t 0.8312 \t 0.8490 \t 0.5407 \t 0.5167\n",
      "best val loss 0.8941 -> 0.8490\n",
      "3 \t 0.7359 \t 0.8081 \t 0.6167 \t 0.5527\n",
      "best val loss 0.8490 -> 0.8081\n",
      "4 \t 0.6915 \t 0.7702 \t 0.6413 \t 0.5632\n",
      "best val loss 0.8081 -> 0.7702\n",
      "5 \t 0.6723 \t 0.7636 \t 0.6521 \t 0.5818\n",
      "best val loss 0.7702 -> 0.7636\n",
      "6 \t 0.6627 \t 0.8236 \t 0.6570 \t 0.5478\n",
      "7 \t 0.6489 \t 0.7686 \t 0.6675 \t 0.5760\n",
      "8 \t 0.6405 \t 0.7617 \t 0.6706 \t 0.5949\n",
      "best val loss 0.7636 -> 0.7617\n",
      "9 \t 0.6267 \t 0.7758 \t 0.6749 \t 0.5826\n",
      "10 \t 0.6263 \t 0.7741 \t 0.6768 \t 0.5867\n",
      "11 \t 0.6197 \t 0.7492 \t 0.6785 \t 0.5981\n",
      "best val loss 0.7617 -> 0.7492\n",
      "12 \t 0.6106 \t 0.8072 \t 0.6851 \t 0.5535\n",
      "13 \t 0.6094 \t 0.8091 \t 0.6837 \t 0.5650\n",
      "14 \t 0.6003 \t 0.7933 \t 0.6914 \t 0.5991\n",
      "15 \t 0.5942 \t 0.7397 \t 0.6921 \t 0.6041\n",
      "best val loss 0.7492 -> 0.7397\n",
      "16 \t 0.5786 \t 0.7509 \t 0.7001 \t 0.5872\n",
      "17 \t 0.5836 \t 0.7532 \t 0.6997 \t 0.5868\n",
      "18 \t 0.5821 \t 0.7209 \t 0.6991 \t 0.6067\n",
      "best val loss 0.7397 -> 0.7209\n",
      "19 \t 0.5734 \t 0.7326 \t 0.7019 \t 0.6070\n",
      "20 \t 0.5616 \t 0.7368 \t 0.7066 \t 0.6120\n",
      "21 \t 0.5604 \t 0.7453 \t 0.7087 \t 0.5747\n",
      "22 \t 0.5559 \t 0.7097 \t 0.7059 \t 0.6268\n",
      "best val loss 0.7209 -> 0.7097\n",
      "23 \t 0.5466 \t 0.7466 \t 0.7134 \t 0.5976\n",
      "24 \t 0.5519 \t 0.7476 \t 0.7023 \t 0.5853\n",
      "25 \t 0.5456 \t 0.7050 \t 0.7094 \t 0.6125\n",
      "best val loss 0.7097 -> 0.7050\n",
      "26 \t 0.5363 \t 0.7529 \t 0.7176 \t 0.5934\n",
      "27 \t 0.5404 \t 0.7040 \t 0.7095 \t 0.6092\n",
      "best val loss 0.7050 -> 0.7040\n",
      "28 \t 0.5331 \t 0.7348 \t 0.7173 \t 0.6062\n",
      "29 \t 0.5356 \t 0.7170 \t 0.7162 \t 0.6147\n",
      "30 \t 0.5287 \t 0.6961 \t 0.7126 \t 0.6163\n",
      "best val loss 0.7040 -> 0.6961\n",
      "31 \t 0.5240 \t 0.7056 \t 0.7194 \t 0.6029\n",
      "32 \t 0.5273 \t 0.7226 \t 0.7147 \t 0.6061\n",
      "33 \t 0.5173 \t 0.6910 \t 0.7231 \t 0.6337\n",
      "best val loss 0.6961 -> 0.6910\n",
      "34 \t 0.5166 \t 0.7032 \t 0.7178 \t 0.6184\n",
      "35 \t 0.5130 \t 0.7555 \t 0.7232 \t 0.5934\n",
      "36 \t 0.5162 \t 0.7118 \t 0.7217 \t 0.5958\n",
      "37 \t 0.5167 \t 0.7521 \t 0.7183 \t 0.5742\n",
      "38 \t 0.5118 \t 0.7202 \t 0.7232 \t 0.5997\n",
      "39 \t 0.5105 \t 0.7235 \t 0.7218 \t 0.6036\n",
      "40 \t 0.5072 \t 0.7042 \t 0.7257 \t 0.6134\n",
      "41 \t 0.5001 \t 0.7442 \t 0.7332 \t 0.5834\n",
      "42 \t 0.5015 \t 0.7112 \t 0.7274 \t 0.6194\n",
      "43 \t 0.4978 \t 0.7587 \t 0.7245 \t 0.5989\n",
      "44 \t 0.4983 \t 0.7211 \t 0.7269 \t 0.6002\n",
      "45 \t 0.4951 \t 0.7545 \t 0.7286 \t 0.6022\n",
      "46 \t 0.4962 \t 0.7384 \t 0.7300 \t 0.5887\n",
      "47 \t 0.4968 \t 0.6944 \t 0.7267 \t 0.6352\n",
      "48 \t 0.4914 \t 0.7261 \t 0.7331 \t 0.6282\n",
      "Stop training at epoch 48\n",
      "Best val loss : 0.6910\n"
     ]
    }
   ],
   "source": [
    "n_epochs = 50\n",
    "patience = 15\n",
    "\n",
    "best_model, history = train(\n",
    "    model, loader_train, loader_valid, optimizer, criterion, n_epochs, patience, \n",
    "    device, metric=cohen_kappa_score)"
   ]
  },
  {
   "cell_type": "code",
   "execution_count": 33,
   "metadata": {},
   "outputs": [
    {
     "data": {
      "text/plain": [
       "Text(0, 0.5, \"Cohen's kappa\")"
      ]
     },
     "execution_count": 33,
     "metadata": {},
     "output_type": "execute_result"
    },
    {
     "data": {
      "image/png": "[encoded data removed]",
      "text/plain": [
       "<Figure size 432x288 with 1 Axes>"
      ]
     },
     "metadata": {
      "needs_background": "light"
     },
     "output_type": "display_data"
    },
    {
     "data": {
      "image/png": "[encoded data removed]",
      "text/plain": [
       "<Figure size 432x288 with 1 Axes>"
      ]
     },
     "metadata": {
      "needs_background": "light"
     },
     "output_type": "display_data"
    }
   ],
   "source": [
    "# Visualizing the learning curves\n",
    "\n",
    "history_df = pd.DataFrame(history)\n",
    "ax1 = history_df.plot(x='epoch', y=['train_loss', 'valid_loss'], marker='o')\n",
    "ax1.set_ylabel('Loss')\n",
    "ax2 = history_df.plot(x='epoch', y=['train_perf', 'valid_perf'], marker='o')\n",
    "ax2.set_ylabel('Cohen\\'s kappa')"
   ]
  },
  {
   "cell_type": "code",
   "execution_count": 34,
   "metadata": {},
   "outputs": [
    {
     "name": "stdout",
     "output_type": "stream",
     "text": [
      "Test balanced accuracy: 0.757\n",
      "Test Cohen's kappa: 0.714\n"
     ]
    }
   ],
   "source": [
    "# Compute test performance\n",
    "\n",
    "best_model.eval()\n",
    "\n",
    "y_pred_all, y_true_all = list(), list()\n",
    "for batch_x, batch_y in loader_test:\n",
    "    batch_x = batch_x.to(device=device, dtype=torch.float32)\n",
    "    batch_y = batch_y.to(device=device, dtype=torch.int64)\n",
    "    output = model.forward(batch_x)\n",
    "    y_pred_all.append(torch.argmax(output, axis=1).cpu().numpy())\n",
    "    y_true_all.append(batch_y.cpu().numpy())\n",
    "    \n",
    "y_pred = np.concatenate(y_pred_all)\n",
    "y_true = np.concatenate(y_true_all)\n",
    "rec_ids = np.concatenate(  # indicates which recording each example comes from\n",
    "    [[i] * len(ds) for i, ds in enumerate(test_ds.datasets)])\n",
    "\n",
    "test_bal_acc = balanced_accuracy_score(y_true, y_pred)\n",
    "test_kappa = cohen_kappa_score(y_true, y_pred)\n",
    "\n",
    "print(f'Test balanced accuracy: {test_bal_acc:0.3f}')\n",
    "print(f'Test Cohen\\'s kappa: {test_kappa:0.3f}')"
   ]
  },
  {
   "cell_type": "code",
   "execution_count": null,
   "metadata": {},
   "outputs": [],
   "source": []
  }
 ],
 "metadata": {
  "kernelspec": {
   "display_name": "Python 3",
   "language": "python",
   "name": "python3"
  },
  "language_info": {
   "codemirror_mode": {
    "name": "ipython",
    "version": 3
   },
   "file_extension": ".py",
   "mimetype": "text/x-python",
   "name": "python",
   "nbconvert_exporter": "python",
   "pygments_lexer": "ipython3",
   "version": "3.8.3"
  }
 },
 "nbformat": 4,
 "nbformat_minor": 4
}
